{
 "cells": [
  {
   "cell_type": "code",
   "execution_count": 1,
   "id": "77fc4ae8",
   "metadata": {},
   "outputs": [],
   "source": [
    "import pandas as pd\n",
    "import numpy as np\n",
    "import matplotlib.pyplot as plt\n",
    "import seaborn as sns\n",
    "%matplotlib inline"
   ]
  },
  {
   "cell_type": "code",
   "execution_count": 9,
   "id": "7e954653",
   "metadata": {},
   "outputs": [],
   "source": [
    "us_tn = pd.read_csv(\"../data/USA_TN_scritps_per_100.csv\")"
   ]
  },
  {
   "cell_type": "code",
   "execution_count": 18,
   "id": "97b0c8d4",
   "metadata": {},
   "outputs": [
    {
     "data": {
      "text/plain": [
       "Text(0, 0.5, 'scripts')"
      ]
     },
     "execution_count": 18,
     "metadata": {},
     "output_type": "execute_result"
    },
    {
     "data": {
      "image/png": "[encoded data removed]",
      "text/plain": [
       "<Figure size 432x288 with 1 Axes>"
      ]
     },
     "metadata": {
      "needs_background": "light"
     },
     "output_type": "display_data"
    }
   ],
   "source": [
    "us_tn.plot(x=\"year\", y=[\"TN\", \"USA\"], kind=\"bar\")\n",
    "plt.title('Prescriptions per 100 US vs TN')\n",
    "plt.xlabel('year')\n",
    "plt.ylabel('scripts')"
   ]
  },
  {
   "cell_type": "code",
   "execution_count": null,
   "id": "aea2f134",
   "metadata": {},
   "outputs": [],
   "source": [
    "plt.bar(x, height = h, width = 0.4)"
   ]
  },
  {
   "cell_type": "code",
   "execution_count": 22,
   "id": "f1d1cb19",
   "metadata": {},
   "outputs": [],
   "source": [
    "county = pd.read_csv(\"../data/top5_scripts_per_100.csv\")"
   ]
  },
  {
   "cell_type": "code",
   "execution_count": 23,
   "id": "c83e5985",
   "metadata": {},
   "outputs": [
    {
     "data": {
      "text/html": [
       "<div>\n",
       "<style scoped>\n",
       "    .dataframe tbody tr th:only-of-type {\n",
       "        vertical-align: middle;\n",
       "    }\n",
       "\n",
       "    .dataframe tbody tr th {\n",
       "        vertical-align: top;\n",
       "    }\n",
       "\n",
       "    .dataframe thead th {\n",
       "        text-align: right;\n",
       "    }\n",
       "</style>\n",
       "<table border=\"1\" class=\"dataframe\">\n",
       "  <thead>\n",
       "    <tr style=\"text-align: right;\">\n",
       "      <th></th>\n",
       "      <th>county</th>\n",
       "      <th>year</th>\n",
       "      <th>opiates_per_100</th>\n",
       "      <th>Rnk</th>\n",
       "    </tr>\n",
       "  </thead>\n",
       "  <tbody>\n",
       "    <tr>\n",
       "      <th>0</th>\n",
       "      <td>Hamblen</td>\n",
       "      <td>2006</td>\n",
       "      <td>281.3</td>\n",
       "      <td>1</td>\n",
       "    </tr>\n",
       "    <tr>\n",
       "      <th>1</th>\n",
       "      <td>Sullivan</td>\n",
       "      <td>2006</td>\n",
       "      <td>250.4</td>\n",
       "      <td>2</td>\n",
       "    </tr>\n",
       "    <tr>\n",
       "      <th>2</th>\n",
       "      <td>Henry</td>\n",
       "      <td>2006</td>\n",
       "      <td>223.9</td>\n",
       "      <td>3</td>\n",
       "    </tr>\n",
       "    <tr>\n",
       "      <th>3</th>\n",
       "      <td>Coffee</td>\n",
       "      <td>2006</td>\n",
       "      <td>219.1</td>\n",
       "      <td>4</td>\n",
       "    </tr>\n",
       "    <tr>\n",
       "      <th>4</th>\n",
       "      <td>Carroll</td>\n",
       "      <td>2006</td>\n",
       "      <td>209.2</td>\n",
       "      <td>5</td>\n",
       "    </tr>\n",
       "    <tr>\n",
       "      <th>...</th>\n",
       "      <td>...</td>\n",
       "      <td>...</td>\n",
       "      <td>...</td>\n",
       "      <td>...</td>\n",
       "    </tr>\n",
       "    <tr>\n",
       "      <th>70</th>\n",
       "      <td>Madison</td>\n",
       "      <td>2020</td>\n",
       "      <td>145.1</td>\n",
       "      <td>1</td>\n",
       "    </tr>\n",
       "    <tr>\n",
       "      <th>71</th>\n",
       "      <td>Washington</td>\n",
       "      <td>2020</td>\n",
       "      <td>140.1</td>\n",
       "      <td>2</td>\n",
       "    </tr>\n",
       "    <tr>\n",
       "      <th>72</th>\n",
       "      <td>Coffee</td>\n",
       "      <td>2020</td>\n",
       "      <td>138.1</td>\n",
       "      <td>3</td>\n",
       "    </tr>\n",
       "    <tr>\n",
       "      <th>73</th>\n",
       "      <td>Sullivan</td>\n",
       "      <td>2020</td>\n",
       "      <td>126.4</td>\n",
       "      <td>4</td>\n",
       "    </tr>\n",
       "    <tr>\n",
       "      <th>74</th>\n",
       "      <td>Hamblen</td>\n",
       "      <td>2020</td>\n",
       "      <td>124.7</td>\n",
       "      <td>5</td>\n",
       "    </tr>\n",
       "  </tbody>\n",
       "</table>\n",
       "<p>75 rows × 4 columns</p>\n",
       "</div>"
      ],
      "text/plain": [
       "        county  year  opiates_per_100  Rnk\n",
       "0      Hamblen  2006            281.3    1\n",
       "1     Sullivan  2006            250.4    2\n",
       "2        Henry  2006            223.9    3\n",
       "3       Coffee  2006            219.1    4\n",
       "4      Carroll  2006            209.2    5\n",
       "..         ...   ...              ...  ...\n",
       "70     Madison  2020            145.1    1\n",
       "71  Washington  2020            140.1    2\n",
       "72      Coffee  2020            138.1    3\n",
       "73    Sullivan  2020            126.4    4\n",
       "74     Hamblen  2020            124.7    5\n",
       "\n",
       "[75 rows x 4 columns]"
      ]
     },
     "execution_count": 23,
     "metadata": {},
     "output_type": "execute_result"
    }
   ],
   "source": [
    "county"
   ]
  },
  {
   "cell_type": "code",
   "execution_count": null,
   "id": "e46bc759",
   "metadata": {},
   "outputs": [],
   "source": [
    "sns.lineplot(x='year', y='opiates_per_100', hue='county', data=county)"
   ]
  },
  {
   "cell_type": "code",
   "execution_count": null,
   "id": "3511f57f",
   "metadata": {},
   "outputs": [],
   "source": []
  }
 ],
 "metadata": {
  "kernelspec": {
   "display_name": "Python 3 (ipykernel)",
   "language": "python",
   "name": "python3"
  },
  "language_info": {
   "codemirror_mode": {
    "name": "ipython",
    "version": 3
   },
   "file_extension": ".py",
   "mimetype": "text/x-python",
   "name": "python",
   "nbconvert_exporter": "python",
   "pygments_lexer": "ipython3",
   "version": "3.9.12"
  }
 },
 "nbformat": 4,
 "nbformat_minor": 5
}
